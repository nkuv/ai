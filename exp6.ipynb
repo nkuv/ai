{
  "nbformat": 4,
  "nbformat_minor": 0,
  "metadata": {
    "colab": {
      "provenance": []
    },
    "kernelspec": {
      "name": "python3",
      "display_name": "Python 3"
    },
    "language_info": {
      "name": "python"
    }
  },
  "cells": [
    {
      "cell_type": "code",
      "execution_count": 2,
      "metadata": {
        "colab": {
          "base_uri": "https://localhost:8080/"
        },
        "id": "b1pASBptI7C2",
        "outputId": "a79b3fc0-0c86-4ab5-f12a-35f00e829d23"
      },
      "outputs": [
        {
          "output_type": "stream",
          "name": "stdout",
          "text": [
            "Original Binary Array:\n",
            "[[255   0   0   0   0   0   0   0   0 255]\n",
            " [  0 255   0   0   0   0   0   0 255   0]\n",
            " [  0   0 255   0   0   0   0 255   0   0]\n",
            " [  0   0   0 255   0   0 255   0   0   0]\n",
            " [  0   0   0   0 255 255   0   0   0   0]\n",
            " [  0   0   0   0 255 255   0   0   0   0]\n",
            " [  0   0   0 255   0   0 255   0   0   0]\n",
            " [  0   0 255   0   0   0   0 255   0   0]\n",
            " [  0 255   0   0   0   0   0   0 255   0]\n",
            " [255   0   0   0   0   0   0   0   0 255]]\n",
            "\n",
            "Same 4-Connected Neighbour Counts:\n",
            "[[0 1 3 3 3 3 3 3 1 0]\n",
            " [1 0 2 4 4 4 4 2 0 1]\n",
            " [3 2 0 2 4 4 2 0 2 3]\n",
            " [3 4 2 0 2 2 0 2 4 3]\n",
            " [3 4 4 2 2 2 2 4 4 3]\n",
            " [3 4 4 2 2 2 2 4 4 3]\n",
            " [3 4 2 0 2 2 0 2 4 3]\n",
            " [3 2 0 2 4 4 2 0 2 3]\n",
            " [1 0 2 4 4 4 4 2 0 1]\n",
            " [0 1 3 3 3 3 3 3 1 0]]\n",
            "\n",
            "Same 8-Connected Neighbour Counts:\n",
            "[[1 3 4 5 5 5 5 4 3 1]\n",
            " [3 2 6 7 8 8 7 6 2 3]\n",
            " [4 6 2 6 7 7 6 2 6 4]\n",
            " [5 7 6 2 5 5 2 6 7 5]\n",
            " [5 8 7 5 4 4 5 7 8 5]\n",
            " [5 8 7 5 4 4 5 7 8 5]\n",
            " [5 7 6 2 5 5 2 6 7 5]\n",
            " [4 6 2 6 7 7 6 2 6 4]\n",
            " [3 2 6 7 8 8 7 6 2 3]\n",
            " [1 3 4 5 5 5 5 4 3 1]]\n"
          ]
        }
      ],
      "source": [
        "import cv2\n",
        "import numpy as np\n",
        "from google.colab.patches import cv2_imshow\n",
        "\n",
        "img = cv2.imread('assets/neighbour.jpg', 0)\n",
        "binary = cv2.threshold(img, 127, 255, cv2.THRESH_BINARY)[1]\n",
        "\n",
        "rows, cols = binary.shape\n",
        "\n",
        "same_4_array = np.zeros((rows, cols), dtype=np.uint8)\n",
        "same_8_array = np.zeros((rows, cols), dtype=np.uint8)\n",
        "\n",
        "neighbours_4 = [(0,1), (1,0), (0,-1), (-1,0)]\n",
        "neighbours_8 = neighbours_4 + [(1,1), (1,-1), (-1,1), (-1,-1)]\n",
        "\n",
        "for x in range(rows):\n",
        "    for y in range(cols):\n",
        "        curr = binary[x, y]\n",
        "        same_4 = 0\n",
        "        same_8 = 0\n",
        "\n",
        "        for dx, dy in neighbours_4:\n",
        "            nx, ny = x + dx, y + dy\n",
        "            if 0 <= nx < rows and 0 <= ny < cols:\n",
        "                if curr == binary[nx, ny]:\n",
        "                    same_4 += 1\n",
        "\n",
        "        for dx, dy in neighbours_8:\n",
        "            nx, ny = x + dx, y + dy\n",
        "            if 0 <= nx < rows and 0 <= ny < cols:\n",
        "                if curr == binary[nx, ny]:\n",
        "                    same_8 += 1\n",
        "\n",
        "        same_4_array[x, y] = same_4\n",
        "        same_8_array[x, y] = same_8\n",
        "\n",
        "\n",
        "print(\"Original Binary Array:\")\n",
        "print(binary)\n",
        "\n",
        "print(\"\\nSame 4-Connected Neighbour Counts:\")\n",
        "print(same_4_array)\n",
        "\n",
        "print(\"\\nSame 8-Connected Neighbour Counts:\")\n",
        "print(same_8_array)\n"
      ]
    }
  ]
}