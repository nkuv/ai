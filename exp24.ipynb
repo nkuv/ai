{
  "nbformat": 4,
  "nbformat_minor": 0,
  "metadata": {
    "colab": {
      "provenance": []
    },
    "kernelspec": {
      "name": "python3",
      "display_name": "Python 3"
    },
    "language_info": {
      "name": "python"
    }
  },
  "cells": [
    {
      "cell_type": "code",
      "execution_count": 5,
      "metadata": {
        "colab": {
          "base_uri": "https://localhost:8080/"
        },
        "id": "3xe4gmPH-a4u",
        "outputId": "a2417885-c57d-4a39-c58f-1104b3245231"
      },
      "outputs": [
        {
          "output_type": "stream",
          "name": "stdout",
          "text": [
            "\n",
            "--- K = 3 ---\n",
            "Confusion Matrix:\n",
            " [[14  0  0]\n",
            " [ 0 11  1]\n",
            " [ 0  0 19]]\n",
            "Precision: 0.9788888888888888\n",
            "Recall: 0.9777777777777777\n",
            "F1-Score: 0.9775795862752384\n",
            "Accuracy: 0.9777777777777777\n",
            "\n",
            "--- K = 5 ---\n",
            "Confusion Matrix:\n",
            " [[14  0  0]\n",
            " [ 0 11  1]\n",
            " [ 0  0 19]]\n",
            "Precision: 0.9788888888888888\n",
            "Recall: 0.9777777777777777\n",
            "F1-Score: 0.9775795862752384\n",
            "Accuracy: 0.9777777777777777\n",
            "\n",
            "--- K = 7 ---\n",
            "Confusion Matrix:\n",
            " [[14  0  0]\n",
            " [ 0 11  1]\n",
            " [ 0  1 18]]\n",
            "Precision: 0.9555555555555556\n",
            "Recall: 0.9555555555555556\n",
            "F1-Score: 0.9555555555555556\n",
            "Accuracy: 0.9555555555555556\n",
            "\n",
            "--- K = 9 ---\n",
            "Confusion Matrix:\n",
            " [[14  0  0]\n",
            " [ 0 11  1]\n",
            " [ 0  1 18]]\n",
            "Precision: 0.9555555555555556\n",
            "Recall: 0.9555555555555556\n",
            "F1-Score: 0.9555555555555556\n",
            "Accuracy: 0.9555555555555556\n"
          ]
        }
      ],
      "source": [
        "import pandas as pd\n",
        "from sklearn.model_selection import train_test_split\n",
        "from sklearn.neighbors import KNeighborsClassifier\n",
        "from sklearn.metrics import confusion_matrix, precision_score, recall_score, f1_score, accuracy_score\n",
        "\n",
        "url = \"https://archive.ics.uci.edu/ml/machine-learning-databases/iris/iris.data\"\n",
        "columns = ['sepal_length','sepal_width','petal_length','petal_width','class']\n",
        "data = pd.read_csv(url, header=None, names=columns)\n",
        "\n",
        "X = data.iloc[:, :-1].values\n",
        "y = data.iloc[:, -1].values\n",
        "\n",
        "X_train, X_test, y_train, y_test = train_test_split(X, y, test_size=0.3)\n",
        "\n",
        "for k in [3, 5, 7, 9]:\n",
        "    knn = KNeighborsClassifier(k)\n",
        "    knn.fit(X_train, y_train)\n",
        "    y_pred = knn.predict(X_test)\n",
        "\n",
        "    print(f\"\\n--- K = {k} ---\")\n",
        "    print(\"Confusion Matrix:\\n\", confusion_matrix(y_test, y_pred))\n",
        "    print(\"Precision:\", precision_score(y_test, y_pred, average='weighted'))\n",
        "    print(\"Recall:\", recall_score(y_test, y_pred, average='weighted'))\n",
        "    print(\"F1-Score:\", f1_score(y_test, y_pred, average='weighted'))\n",
        "    print(\"Accuracy:\", accuracy_score(y_test, y_pred))"
      ]
    }
  ]
}