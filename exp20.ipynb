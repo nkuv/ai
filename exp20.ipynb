{
  "nbformat": 4,
  "nbformat_minor": 0,
  "metadata": {
    "colab": {
      "provenance": []
    },
    "kernelspec": {
      "name": "python3",
      "display_name": "Python 3"
    },
    "language_info": {
      "name": "python"
    }
  },
  "cells": [
    {
      "cell_type": "code",
      "source": [
        "import pandas as pd\n",
        "\n",
        "data = pd.read_csv('assets/weatherdataset.csv')\n",
        "\n",
        "class_counts = data['Play'].value_counts()\n",
        "total_counts = len(data)\n",
        "\n",
        "priors = {}\n",
        "for c in class_counts.index:\n",
        "    priors[c] = class_counts[c] / total_counts\n",
        "print(priors)\n",
        "\n",
        "def likelihood(feature,value,target_class):\n",
        "    subset = data[data['Play']==target_class]\n",
        "    count = len(subset[subset[feature]==value])\n",
        "    total = len(subset);\n",
        "    if(total==0):\n",
        "        return 0\n",
        "    return count/total\n",
        "\n",
        "query = {\n",
        "    'Outlook':'Rainy',\n",
        "    'Temp':'Mild',\n",
        "    'Humidity':'Normal',\n",
        "    'Windy':'t'\n",
        "}\n",
        "\n",
        "posteriors = {}\n",
        "for c in class_counts.index:\n",
        "    posterior = priors[c]\n",
        "    for feature,value in query.items():\n",
        "        posterior= posterior * likelihood(feature,value,c)\n",
        "    posteriors[c] = posterior\n",
        "\n",
        "total_prob = sum(posteriors.values())\n",
        "class_probs = {}\n",
        "for c in posteriors:\n",
        "    class_probs[c] = posteriors[c]/total_prob\n",
        "\n",
        "pred_class = max(class_probs,key=class_probs.get)\n",
        "print(\"Query:\", query)\n",
        "print(\"Class Probabilities:\", class_probs)\n",
        "print(\"Predicted Class:\", pred_class)"
      ],
      "metadata": {
        "colab": {
          "base_uri": "https://localhost:8080/"
        },
        "id": "qiSc_94NihCK",
        "outputId": "515f363d-c179-4970-9542-094c224a4c11"
      },
      "execution_count": null,
      "outputs": [
        {
          "output_type": "stream",
          "name": "stdout",
          "text": [
            "Prior Probabilities: {'yes': np.float64(0.6428571428571429), 'no': np.float64(0.35714285714285715)}\n",
            "Query: {'Outlook': 'Rainy', 'Temp': 'Mild', 'Humidity': 'Normal', 'Windy': 't'}\n",
            "Class Probabilities: {'yes': np.float64(0.578368999421631), 'no': np.float64(0.421631000578369)}\n",
            "Predicted Class: yes\n"
          ]
        }
      ]
    }
  ]
}