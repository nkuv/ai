{
  "nbformat": 4,
  "nbformat_minor": 0,
  "metadata": {
    "colab": {
      "provenance": []
    },
    "kernelspec": {
      "name": "python3",
      "display_name": "Python 3"
    },
    "language_info": {
      "name": "python"
    }
  },
  "cells": [
    {
      "cell_type": "code",
      "execution_count": 11,
      "metadata": {
        "colab": {
          "base_uri": "https://localhost:8080/"
        },
        "id": "pb1OijCOjLHW",
        "outputId": "a309bff0-a855-4c7f-9033-4b2a338ae8a9"
      },
      "outputs": [
        {
          "output_type": "stream",
          "name": "stderr",
          "text": [
            "/usr/local/lib/python3.12/dist-packages/sklearn/metrics/_classification.py:1565: UndefinedMetricWarning: Recall is ill-defined and being set to 0.0 in labels with no true samples. Use `zero_division` parameter to control this behavior.\n",
            "  _warn_prf(average, modifier, f\"{metric.capitalize()} is\", len(result))\n"
          ]
        },
        {
          "output_type": "stream",
          "name": "stdout",
          "text": [
            "Confusion Matrix:\n",
            " [[0 0 0 0]\n",
            " [0 6 0 0]\n",
            " [1 0 1 0]\n",
            " [0 0 0 9]]\n",
            "Precision Score:\n",
            " 1.0\n",
            "Recall: 0.9411764705882353\n",
            "F1-Score: 0.9607843137254901\n",
            "Accuracy: 0.9411764705882353\n",
            "Enter a sentence:Cybersecurity threats are increasing as hackers become more sophisticated.\n",
            "Predicted Class: ['Technology']\n"
          ]
        }
      ],
      "source": [
        "import pandas as pd\n",
        "from sklearn.feature_extraction.text import TfidfVectorizer\n",
        "from sklearn.model_selection import train_test_split\n",
        "from sklearn.naive_bayes import MultinomialNB\n",
        "from sklearn.metrics import confusion_matrix,precision_score,recall_score,f1_score,accuracy_score\n",
        "\n",
        "data = pd.read_csv('assets/text_data.csv')\n",
        "\n",
        "X = data['text']\n",
        "y = data['label']\n",
        "\n",
        "X_train,X_test,y_train,y_test = train_test_split(X,y,test_size=0.2)\n",
        "\n",
        "vectorizer = TfidfVectorizer(stop_words='english')\n",
        "X_train = vectorizer.fit_transform(X_train)\n",
        "X_test = vectorizer.transform(X_test)\n",
        "\n",
        "model = MultinomialNB()\n",
        "model.fit(X_train,y_train)\n",
        "\n",
        "y_pred = model.predict(X_test)\n",
        "\n",
        "print(\"Confusion Matrix:\\n\",confusion_matrix(y_test,y_pred))\n",
        "print(\"Precision Score:\\n\",precision_score(y_test,y_pred,average='weighted'))\n",
        "print(\"Recall:\", recall_score(y_test, y_pred, average='weighted'))\n",
        "print(\"F1-Score:\", f1_score(y_test, y_pred, average='weighted'))\n",
        "print(\"Accuracy:\", accuracy_score(y_test, y_pred))\n",
        "\n",
        "user_input = input(\"Enter a sentence:\")\n",
        "user_vec = vectorizer.transform([user_input])\n",
        "predicted = model.predict(user_vec)\n",
        "print(\"Predicted Class:\", predicted)"
      ]
    }
  ]
}