{
 "cells": [
  {
   "cell_type": "code",
   "execution_count": 1,
   "metadata": {
    "colab": {
     "base_uri": "https://localhost:8080/",
     "height": 678
    },
    "executionInfo": {
     "elapsed": 138,
     "status": "ok",
     "timestamp": 1757321460722,
     "user": {
      "displayName": "Nandhu Krishna V R",
      "userId": "09682306220143784024"
     },
     "user_tz": -330
    },
    "id": "ODLkPYWjfc7t",
    "outputId": "788c9f5a-5098-4539-b980-e3737b056b97"
   },
   "outputs": [
    {
     "ename": "ModuleNotFoundError",
     "evalue": "No module named 'cv2'",
     "output_type": "error",
     "traceback": [
      "\u001b[31m---------------------------------------------------------------------------\u001b[39m",
      "\u001b[31mModuleNotFoundError\u001b[39m                       Traceback (most recent call last)",
      "\u001b[36mCell\u001b[39m\u001b[36m \u001b[39m\u001b[32mIn[1]\u001b[39m\u001b[32m, line 1\u001b[39m\n\u001b[32m----> \u001b[39m\u001b[32m1\u001b[39m \u001b[38;5;28;01mimport\u001b[39;00m\u001b[38;5;250m \u001b[39m\u001b[34;01mcv2\u001b[39;00m\n\u001b[32m      2\u001b[39m \u001b[38;5;28;01mfrom\u001b[39;00m\u001b[38;5;250m \u001b[39m\u001b[34;01mgoogle\u001b[39;00m\u001b[34;01m.\u001b[39;00m\u001b[34;01mcolab\u001b[39;00m\u001b[34;01m.\u001b[39;00m\u001b[34;01mpatches\u001b[39;00m\u001b[38;5;250m \u001b[39m\u001b[38;5;28;01mimport\u001b[39;00m cv2_imshow\n\u001b[32m      4\u001b[39m gray = cv2.imread(\u001b[33m\"\u001b[39m\u001b[33m/content/drive/MyDrive/Colab/assets/tiger.jpg\u001b[39m\u001b[33m\"\u001b[39m,\u001b[32m0\u001b[39m)\n",
      "\u001b[31mModuleNotFoundError\u001b[39m: No module named 'cv2'"
     ]
    }
   ],
   "source": [
    "import cv2\n",
    "from google.colab.patches import cv2_imshow\n",
    "\n",
    "gray = cv2.imread(\"/content/drive/MyDrive/Colab/assets/tiger.jpg\",0)\n",
    "\n",
    "laplacian_3 = cv2.Laplacian(gray,cv2.CV_64F, ksize=3)\n",
    "laplacian_5 = cv2.Laplacian(gray,cv2.CV_64F, ksize=5)\n",
    "laplacian_7 = cv2.Laplacian(gray,cv2.CV_64F, ksize=7)\n",
    "\n",
    "laplacian_3 = cv2.convertScaleAbs(laplacian_3)\n",
    "laplacian_5 = cv2.convertScaleAbs(laplacian_5)\n",
    "laplacian_7 = cv2.convertScaleAbs(laplacian_7)\n",
    "\n",
    "print(\"Original image\")\n",
    "cv2_imshow(gray)\n",
    "\n",
    "print(\"Blurred image 3x3\")\n",
    "cv2_imshow(laplacian_3)\n",
    "\n",
    "print(\"Blurred image 5x5\")\n",
    "cv2_imshow(laplacian_5)\n",
    "\n",
    "print(\"Blurred image 7x7\")\n",
    "cv2_imshow(laplacian_7)"
   ]
  }
 ],
 "metadata": {
  "colab": {
   "authorship_tag": "ABX9TyMu6EQVjEogno/2aXl1RaXa",
   "mount_file_id": "1nOx9euCASaNIXnuDY27LqubSrvCY25Hs",
   "provenance": []
  },
  "kernelspec": {
   "display_name": "Python 3",
   "name": "python3"
  },
  "language_info": {
   "codemirror_mode": {
    "name": "ipython",
    "version": 3
   },
   "file_extension": ".py",
   "mimetype": "text/x-python",
   "name": "python",
   "nbconvert_exporter": "python",
   "pygments_lexer": "ipython3",
   "version": "3.13.3"
  }
 },
 "nbformat": 4,
 "nbformat_minor": 0
}
